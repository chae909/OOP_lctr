{
 "cells": [
  {
   "cell_type": "code",
   "execution_count": null,
   "id": "initial_id",
   "metadata": {
    "collapsed": true
   },
   "outputs": [],
   "source": "tags = [\"Django\", \"Pandas\", \"Numpy\"]"
  },
  {
   "metadata": {},
   "cell_type": "code",
   "outputs": [],
   "execution_count": null,
   "source": [
    "tag_set1 = {tag.lower() for tag in tags}\n",
    "print(tag_set1)"
   ],
   "id": "e20991cbf4ffd673"
  },
  {
   "metadata": {},
   "cell_type": "code",
   "outputs": [],
   "execution_count": null,
   "source": [
    "tag_set2 = {tag.upper() for tag in tags}\n",
    "print(tag_set2)"
   ],
   "id": "d1c011b0c18ca67b"
  },
  {
   "metadata": {},
   "cell_type": "code",
   "outputs": [],
   "execution_count": null,
   "source": [
    "tag_set3 = {tag.lower() if len(tag)%2==0 \n",
    "            else tag.upper() for tag in tags}\n",
    "print(tag_set3)"
   ],
   "id": "d2debc7f6cc05f14"
  },
  {
   "metadata": {},
   "cell_type": "code",
   "outputs": [],
   "execution_count": null,
   "source": "old_price = {\"milk\": 3.5, \"coffee\": 5.5, \"bread\": 5.0}",
   "id": "56570e2184ad4ba9"
  },
  {
   "metadata": {},
   "cell_type": "code",
   "outputs": [],
   "execution_count": null,
   "source": [
    "new_price1 = {k: v*0.9\n",
    "              for (k, v) in old_price.items()}\n",
    "print(new_price1)"
   ],
   "id": "7313100486f9c7ff"
  },
  {
   "metadata": {},
   "cell_type": "code",
   "outputs": [],
   "execution_count": null,
   "source": [
    "new_price2 = {k: v*0.9\n",
    "              for (k, v) in old_price.items()\n",
    "              if v > 5.0}\n",
    "print(new_price2)"
   ],
   "id": "13dd5aca32afa50a"
  },
  {
   "metadata": {},
   "cell_type": "code",
   "outputs": [],
   "execution_count": null,
   "source": [
    "new_price3 = {k: v*0.9\n",
    "              if v > 5.0\n",
    "              else v for (k, v) in old_price.items()}\n",
    "print(new_price3)"
   ],
   "id": "84d4f0bad4c1513"
  }
 ],
 "metadata": {
  "kernelspec": {
   "display_name": "Python 3",
   "language": "python",
   "name": "python3"
  },
  "language_info": {
   "codemirror_mode": {
    "name": "ipython",
    "version": 2
   },
   "file_extension": ".py",
   "mimetype": "text/x-python",
   "name": "python",
   "nbconvert_exporter": "python",
   "pygments_lexer": "ipython2",
   "version": "2.7.6"
  }
 },
 "nbformat": 4,
 "nbformat_minor": 5
}
